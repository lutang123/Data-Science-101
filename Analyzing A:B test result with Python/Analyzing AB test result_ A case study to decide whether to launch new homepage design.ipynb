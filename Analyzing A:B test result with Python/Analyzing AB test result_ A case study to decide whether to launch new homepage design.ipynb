{
 "cells": [
  {
   "cell_type": "markdown",
   "metadata": {},
   "source": [
    "# Project: Analyzing A/B test result: A case study to help company decide whether to launch a new homepage design\n",
    "    \n",
    "--By Lu Tang"
   ]
  },
  {
   "cell_type": "markdown",
   "metadata": {},
   "source": [
    "In this project, we will do data analysis to help our client decide whether to launch two new features on their website. \n",
    "\n",
    "Here's the customer funnel for typical new users on their site:\n",
    "\n",
    "**View home page > Explore courses > View course overview page > Enroll in course > Complete course**\n",
    "\n",
    "Our client loses users as they go down the stages of this funnel, with only a few making it to the end. To increase student engagement, Our client is performing **A/B tests** to try out changes that will hopefully increase conversion rates from one stage to the next.\n",
    "\n",
    "A/B tests are used to test changes on a web page by running an experiment where a **control group** sees the old version, while the **experiment group** sees the new version. A **metric** is then chosen to measure the level of engagement from users in each group. These results are then used to judge whether one version is more effective than the other. A/B testing is very much like hypothesis testing with the following hypotheses:\n",
    ">- **Null Hypothesis**: The new version is no better, or even worse, than the old version\n",
    ">- **Alternative Hypothesis**: The new version is better than the old version\n",
    "\n",
    "If we fail to reject the null hypothesis, the results would suggest keeping the old version. If we reject the null hypothesis, the results would suggest launching the change. These tests can be used for a wide variety of changes, from large feature additions to small adjustments in color, to see what change maximizes your metric the most."
   ]
  },
  {
   "cell_type": "markdown",
   "metadata": {},
   "source": [
    "## Feature Changes: Change homepage design. \n",
    "Our client hopes that this new, more engaging design will increase the number of users that explore their courses, that is, move on to the second stage of the funnel.\n",
    "\n",
    "**Metric: Click through rate (CTR)**"
   ]
  },
  {
   "cell_type": "markdown",
   "metadata": {},
   "source": [
    "Click through rate (CTR) is often defined as the the number of clicks divided by the number of views. Since our client uses cookies, we can identify unique users and make sure we don't count the same one multiple times. For this experiment, we'll define our click through rate as:\n",
    "\n",
    "CTR: # clicks by *unique* users / # views by *unique* users\n",
    "\n",
    "H0: CTR_{new} - CTR_{old} <= 0\n",
    "\n",
    "H1: CTR_{new} - CTR_{old} > 0 "
   ]
  },
  {
   "cell_type": "markdown",
   "metadata": {},
   "source": [
    "**The company has collected the data in homepage_actions.csv, we will use Python to analyze the data**"
   ]
  },
  {
   "cell_type": "code",
   "execution_count": 1,
   "metadata": {},
   "outputs": [],
   "source": [
    "# load library\n",
    "import numpy as np\n",
    "import pandas as pd\n",
    "import matplotlib.pyplot as plt\n",
    "%matplotlib inline\n",
    "# to make sure we get the same results everytime we run the code\n",
    "np.random.seed(42)"
   ]
  },
  {
   "cell_type": "code",
   "execution_count": 2,
   "metadata": {},
   "outputs": [
    {
     "data": {
      "text/html": [
       "<div>\n",
       "<style scoped>\n",
       "    .dataframe tbody tr th:only-of-type {\n",
       "        vertical-align: middle;\n",
       "    }\n",
       "\n",
       "    .dataframe tbody tr th {\n",
       "        vertical-align: top;\n",
       "    }\n",
       "\n",
       "    .dataframe thead th {\n",
       "        text-align: right;\n",
       "    }\n",
       "</style>\n",
       "<table border=\"1\" class=\"dataframe\">\n",
       "  <thead>\n",
       "    <tr style=\"text-align: right;\">\n",
       "      <th></th>\n",
       "      <th>timestamp</th>\n",
       "      <th>id</th>\n",
       "      <th>group</th>\n",
       "      <th>action</th>\n",
       "    </tr>\n",
       "  </thead>\n",
       "  <tbody>\n",
       "    <tr>\n",
       "      <th>0</th>\n",
       "      <td>2016-09-24 17:42:27.839496</td>\n",
       "      <td>804196</td>\n",
       "      <td>experiment</td>\n",
       "      <td>view</td>\n",
       "    </tr>\n",
       "    <tr>\n",
       "      <th>1</th>\n",
       "      <td>2016-09-24 19:19:03.542569</td>\n",
       "      <td>434745</td>\n",
       "      <td>experiment</td>\n",
       "      <td>view</td>\n",
       "    </tr>\n",
       "    <tr>\n",
       "      <th>2</th>\n",
       "      <td>2016-09-24 19:36:00.944135</td>\n",
       "      <td>507599</td>\n",
       "      <td>experiment</td>\n",
       "      <td>view</td>\n",
       "    </tr>\n",
       "    <tr>\n",
       "      <th>3</th>\n",
       "      <td>2016-09-24 19:59:02.646620</td>\n",
       "      <td>671993</td>\n",
       "      <td>control</td>\n",
       "      <td>view</td>\n",
       "    </tr>\n",
       "    <tr>\n",
       "      <th>4</th>\n",
       "      <td>2016-09-24 20:26:14.466886</td>\n",
       "      <td>536734</td>\n",
       "      <td>experiment</td>\n",
       "      <td>view</td>\n",
       "    </tr>\n",
       "  </tbody>\n",
       "</table>\n",
       "</div>"
      ],
      "text/plain": [
       "                    timestamp      id       group action\n",
       "0  2016-09-24 17:42:27.839496  804196  experiment   view\n",
       "1  2016-09-24 19:19:03.542569  434745  experiment   view\n",
       "2  2016-09-24 19:36:00.944135  507599  experiment   view\n",
       "3  2016-09-24 19:59:02.646620  671993     control   view\n",
       "4  2016-09-24 20:26:14.466886  536734  experiment   view"
      ]
     },
     "execution_count": 2,
     "metadata": {},
     "output_type": "execute_result"
    }
   ],
   "source": [
    "# load the data and display first 5 rows\n",
    "df = pd.read_csv('homepage_actions.csv')\n",
    "df.head()"
   ]
  },
  {
   "cell_type": "markdown",
   "metadata": {},
   "source": [
    "### 1. Match the following characteristics of this dataset: \n",
    "- total number of actions\n",
    "- number of unique users\n",
    "- sizes of the control and experiment groups (i.e., the number of unique users in each group)"
   ]
  },
  {
   "cell_type": "code",
   "execution_count": 3,
   "metadata": {},
   "outputs": [
    {
     "data": {
      "text/plain": [
       "(8188, 4)"
      ]
     },
     "execution_count": 3,
     "metadata": {},
     "output_type": "execute_result"
    }
   ],
   "source": [
    "# total number of actions\n",
    "df.shape"
   ]
  },
  {
   "cell_type": "markdown",
   "metadata": {},
   "source": [
    "- The total number of actions is 8188"
   ]
  },
  {
   "cell_type": "code",
   "execution_count": 4,
   "metadata": {},
   "outputs": [
    {
     "data": {
      "text/plain": [
       "timestamp    8188\n",
       "id           6328\n",
       "group           2\n",
       "action          2\n",
       "dtype: int64"
      ]
     },
     "execution_count": 4,
     "metadata": {},
     "output_type": "execute_result"
    }
   ],
   "source": [
    "# number of unique users\n",
    "df.nunique()"
   ]
  },
  {
   "cell_type": "markdown",
   "metadata": {},
   "source": [
    "- The number of unique users is 6328"
   ]
  },
  {
   "cell_type": "code",
   "execution_count": 5,
   "metadata": {},
   "outputs": [
    {
     "data": {
      "text/plain": [
       "control       4264\n",
       "experiment    3924\n",
       "Name: group, dtype: int64"
      ]
     },
     "execution_count": 5,
     "metadata": {},
     "output_type": "execute_result"
    }
   ],
   "source": [
    "# number of control and experiement group in this dataset (total number, not unique unser)\n",
    "df['group'].value_counts()"
   ]
  },
  {
   "cell_type": "code",
   "execution_count": 6,
   "metadata": {},
   "outputs": [
    {
     "data": {
      "text/plain": [
       "group\n",
       "control       3332\n",
       "experiment    2996\n",
       "Name: id, dtype: int64"
      ]
     },
     "execution_count": 6,
     "metadata": {},
     "output_type": "execute_result"
    }
   ],
   "source": [
    "# sizes of the control and experiment groups (i.e., the number of unique users in each group)\n",
    "df.groupby('group')['id'].nunique()"
   ]
  },
  {
   "cell_type": "markdown",
   "metadata": {},
   "source": [
    "- The number of unique users in control group is 3332\n",
    "- The number of unique users in experiment group is 2996"
   ]
  },
  {
   "cell_type": "markdown",
   "metadata": {},
   "source": [
    "### 2. How long was the experiment run for? "
   ]
  },
  {
   "cell_type": "code",
   "execution_count": 7,
   "metadata": {},
   "outputs": [
    {
     "data": {
      "text/plain": [
       "('2016-09-24 17:42:27.839496', '2017-01-18 10:24:08.629327')"
      ]
     },
     "execution_count": 7,
     "metadata": {},
     "output_type": "execute_result"
    }
   ],
   "source": [
    "# duration of this experiment\n",
    "df.timestamp.min(), df.timestamp.max()"
   ]
  },
  {
   "cell_type": "markdown",
   "metadata": {},
   "source": [
    "- This experiment has run for 4 months"
   ]
  },
  {
   "cell_type": "markdown",
   "metadata": {},
   "source": [
    "### 3. What action types are recorded in this dataset?"
   ]
  },
  {
   "cell_type": "code",
   "execution_count": 8,
   "metadata": {},
   "outputs": [
    {
     "data": {
      "text/plain": [
       "array(['view', 'click'], dtype=object)"
      ]
     },
     "execution_count": 8,
     "metadata": {},
     "output_type": "execute_result"
    }
   ],
   "source": [
    "# action types in this experiment\n",
    "df['action'].unique()"
   ]
  },
  {
   "cell_type": "markdown",
   "metadata": {},
   "source": [
    "- The action types are view and click"
   ]
  },
  {
   "cell_type": "markdown",
   "metadata": {},
   "source": [
    "### 4. Why would we use click through rate instead of number of clicks to compare the performances of control and experiment pages?"
   ]
  },
  {
   "cell_type": "markdown",
   "metadata": {},
   "source": [
    "- The control and experiement group would have different number of total visitors\n",
    "- More total click would occur in one version, even if there is a greater percentage of clicks in other version\n",
    "- Getting the proportion of the users who click is more effective than getting the number of users who click when comparing groups of different sizes."
   ]
  },
  {
   "cell_type": "markdown",
   "metadata": {},
   "source": [
    "## The steps we took to analyze the results of this A/B test"
   ]
  },
  {
   "cell_type": "markdown",
   "metadata": {},
   "source": [
    "Our Hypothesis for this test:\n",
    "\n",
    "H0: CTR_{experiment} - CTR_{control} <= 0\n",
    "\n",
    "H1: CTR_{experiment} - CTR_{control} > 0 "
   ]
  },
  {
   "cell_type": "markdown",
   "metadata": {},
   "source": [
    "### Step_1. Compute the observed difference between the metric, CTR (click through rate), for the control and experiment group."
   ]
  },
  {
   "cell_type": "code",
   "execution_count": 9,
   "metadata": {},
   "outputs": [
    {
     "name": "stdout",
     "output_type": "stream",
     "text": [
      "The CTR for experiment group is 0.3097463284379172\n"
     ]
    }
   ],
   "source": [
    "# experiment group data\n",
    "experiment_df = df.query('group == \"experiment\"')\n",
    "\n",
    "# CTR for experiment group\n",
    "experiment_ctr = experiment_df.query('action==\"click\"')['id'].nunique()/experiment_df.query('action==\"view\"')['id'].nunique()\n",
    "\n",
    "print(f'The CTR for experiment group is {experiment_ctr}')"
   ]
  },
  {
   "cell_type": "code",
   "execution_count": 10,
   "metadata": {},
   "outputs": [
    {
     "name": "stdout",
     "output_type": "stream",
     "text": [
      "The CTR for control group is 0.2797118847539016\n"
     ]
    }
   ],
   "source": [
    "# control group data\n",
    "control_df = df.query('group == \"control\"')\n",
    "\n",
    "# CTR for control group\n",
    "control_ctr = control_df.query('action==\"click\"')['id'].nunique()/control_df.query('action==\"view\"')['id'].nunique()\n",
    "\n",
    "print(f'The CTR for control group is {control_ctr}')"
   ]
  },
  {
   "cell_type": "code",
   "execution_count": 11,
   "metadata": {},
   "outputs": [
    {
     "name": "stdout",
     "output_type": "stream",
     "text": [
      "The observed difference in CTR betweent experiment group and control group is 0.030034443684015644\n"
     ]
    }
   ],
   "source": [
    "# observed difference\n",
    "obs_diff = experiment_ctr - control_ctr\n",
    "print(f'The observed difference in CTR betweent experiment group and control group is {obs_diff}')"
   ]
  },
  {
   "cell_type": "markdown",
   "metadata": {},
   "source": [
    "- In this sample, the experiment group click through rate is higher than control group's click through rate by about 0.03. We then need to test if this difference is statistically significance and not due by random chance. Let's bootstrap the sample to simulate the sampling distribution for the difference in proportions"
   ]
  },
  {
   "cell_type": "markdown",
   "metadata": {},
   "source": [
    "### Step_2. Use Bootstrapping technique to simulate the sampling distribution for the difference in proportions"
   ]
  },
  {
   "cell_type": "code",
   "execution_count": 12,
   "metadata": {},
   "outputs": [],
   "source": [
    "# create an empty list for the differences in click through rates between experiment and control group \n",
    "diffs = []\n",
    "# set sample size as the data size\n",
    "size = df.shape[0]\n",
    "for i in range(10000):\n",
    "    # use bootstrap technique to take sample from a group with replacement\n",
    "    # this is to simulate the creation of sampling distribution\n",
    "    boots_sample = df.sample(size, replace = True)\n",
    "    # the experiment group\n",
    "    experiement_df = boots_sample.query('group == \"experiment\"')\n",
    "    # get the control group \n",
    "    control_df = boots_sample.query('group == \"control\"')\n",
    "    # calculate the ctr in experiment group\n",
    "    experiment_ctr = experiment_df.query('action==\"click\"')['id'].nunique()/experiment_df.query('action==\"view\"')['id'].nunique()\n",
    "    # calculate the ctr in control group\n",
    "    control_ctr = control_df.query('action==\"click\"')['id'].nunique()/control_df.query('action==\"view\"')['id'].nunique()\n",
    "    # calculatet the differences nd append all the number to diffs list\n",
    "    diffs.append(experiment_ctr - control_ctr)"
   ]
  },
  {
   "cell_type": "markdown",
   "metadata": {},
   "source": [
    "- By bootstrapping and then calculating repeated values of our statistics (experiment_ctr - control_ctr), we can gain an understanding of the sampling distribution of our statistics"
   ]
  },
  {
   "cell_type": "code",
   "execution_count": 13,
   "metadata": {},
   "outputs": [],
   "source": [
    "# convert diffs list to numpy arrays\n",
    "diffs = np.array(diffs)"
   ]
  },
  {
   "cell_type": "code",
   "execution_count": 14,
   "metadata": {},
   "outputs": [
    {
     "data": {
      "text/plain": [
       "Text(0, 0.5, 'frequency')"
      ]
     },
     "execution_count": 14,
     "metadata": {},
     "output_type": "execute_result"
    },
    {
     "data": {
      "image/png": "[encoded data removed]",
      "text/plain": [
       "<Figure size 432x288 with 1 Axes>"
      ]
     },
     "metadata": {
      "needs_background": "light"
     },
     "output_type": "display_data"
    }
   ],
   "source": [
    "# visualize the sample distribution for the differences in click through rates between experiment and control group¶\n",
    "plt.hist(diffs)\n",
    "plt.title('Sample Distribution for our statistics')\n",
    "plt.xlabel('the value of (experiment_ctr - control_ctr) for each sample')\n",
    "plt.ylabel('frequency')"
   ]
  },
  {
   "cell_type": "markdown",
   "metadata": {},
   "source": [
    "- From the histogram of the sample distribution, we can see the majority of our statistics is centered around 0.03. "
   ]
  },
  {
   "cell_type": "markdown",
   "metadata": {},
   "source": [
    "### Step_3. Use this sampling distribution to simulate the distribution under the null hypothesis, by creating a random normal distribution centered at 0 with the same spread and size."
   ]
  },
  {
   "cell_type": "code",
   "execution_count": 15,
   "metadata": {},
   "outputs": [],
   "source": [
    "# simulate distribution under the null hypothesis\n",
    "# nomal(loc=0.0, scale=diffs.std(), size=100000)\n",
    "null_vals = np.random.normal(0, diffs.std(), diffs.size)"
   ]
  },
  {
   "cell_type": "code",
   "execution_count": 16,
   "metadata": {},
   "outputs": [
    {
     "data": {
      "text/plain": [
       "Text(0, 0.5, 'frequency')"
      ]
     },
     "execution_count": 16,
     "metadata": {},
     "output_type": "execute_result"
    },
    {
     "data": {
      "image/png": "[encoded data removed]",
      "text/plain": [
       "<Figure size 432x288 with 1 Axes>"
      ]
     },
     "metadata": {
      "needs_background": "light"
     },
     "output_type": "display_data"
    }
   ],
   "source": [
    "# plot the null distribution\n",
    "plt.hist(null_vals)\n",
    "# plot the observed statistic with the null distribution\n",
    "plt.axvline(obs_diff, c = 'red')\n",
    "plt.title('Simulate the distribution under Null Hypothesis')\n",
    "plt.xlabel('the value of (experiment_ctr - control_ctr) under Null Hypothesis')\n",
    "plt.ylabel('frequency')"
   ]
  },
  {
   "cell_type": "markdown",
   "metadata": {},
   "source": [
    "- Our null hypothesis assume CTR_{experiment} - CTR_{control} <= 0, thus we simulate the null hypothesis distribution centered at zero, with the same standard deviation and same size as our sampling distribution. As we can see our observed difference (the red line) falls far to the right; it seems unlikely that our statistic is from this null. To prove our conclusio, we need to calculate the p-value, i.e. the probability of our observed statistic came from this null distribution"
   ]
  },
  {
   "cell_type": "markdown",
   "metadata": {},
   "source": [
    "### Step_4. Compute the p-value by finding the proportion of values in the null distribution that were greater than our observed difference."
   ]
  },
  {
   "cell_type": "code",
   "execution_count": 17,
   "metadata": {},
   "outputs": [
    {
     "name": "stdout",
     "output_type": "stream",
     "text": [
      "The p-value is 0.0\n"
     ]
    }
   ],
   "source": [
    "# compute the p-value\n",
    "p_value = (null_vals > obs_diff).mean()\n",
    "print(f'The p-value is {p_value}')"
   ]
  },
  {
   "cell_type": "markdown",
   "metadata": {},
   "source": [
    "### Step_5. Use this p-value to determine the statistical significance of our observed difference."
   ]
  },
  {
   "cell_type": "markdown",
   "metadata": {},
   "source": [
    "**Conclusion**\n",
    "- We set p-value threshhold as 0.05, our calculated p-value is close to 0, which is less than our threshhold, thus we can conclude that our observed difference is statistically significant and we can reject null hypothesis.\n",
    "- We can recommend to change the design of homepage to the new version."
   ]
  },
  {
   "cell_type": "markdown",
   "metadata": {},
   "source": [
    "## Summary of our steps and result:\n",
    "\n",
    "First we set hypothesis, and our null hypothesis is H0: CTR_{experiment} - CTR_{control} <= 0.\n",
    "\n",
    "In Step_1, we have calculated the observed difference in CTR between experiment and control group as **obs_diff**, i.e. CTR_{experiment} - CTR_{control} = 0.030034443684015644. \n",
    "\n",
    "We can not make conclusion to say the click through rate in experiment group is higher than the click through rate in control group by this one number (the observed difference) calculated by our collected data, because only judging from one sample, the result might be by random chance. We need to run statistical test to see if this number is statistically significant in order to reject our null hypothesis. \n",
    "\n",
    "With limited time and resources, we can not collect the same size of data 10000 times, thus We use bootstrapping technique to take sample from the a group (our sample data) with replacement 10000 times; this is to simulate the creation of sampling distribution for our statistics. \n",
    "\n",
    "From the histogram of the sample distribution, we can see the majority of the number is centered around 0.03. Since our null hypothesis is CTR_{experiment} - CTR_{control} <= 0, we need to create a normal distribution centered at 0, with the same standard deviation as our sampling distribution we simulated here; this is to simulate the null. \n",
    "\n",
    "We then calculate the p-value for our statistics, which is the observed difference in proportion by simulating the distribution under null hypothesis and then finding the probability that our statistic came from this distribution.\n",
    "\n",
    "With p-value under 0.05, the difference in click through rates for the control and expriment group does appear to be significant, i.e. it seems unlikely that our statistic is from this null. Thus we can reject null hypothesis, and based on these results, we can give recommendation that our company should launch the new homepage design."
   ]
  }
 ],
 "metadata": {
  "kernelspec": {
   "display_name": "Python 3",
   "language": "python",
   "name": "python3"
  },
  "language_info": {
   "codemirror_mode": {
    "name": "ipython",
    "version": 3
   },
   "file_extension": ".py",
   "mimetype": "text/x-python",
   "name": "python",
   "nbconvert_exporter": "python",
   "pygments_lexer": "ipython3",
   "version": "3.7.0"
  }
 },
 "nbformat": 4,
 "nbformat_minor": 2
}
